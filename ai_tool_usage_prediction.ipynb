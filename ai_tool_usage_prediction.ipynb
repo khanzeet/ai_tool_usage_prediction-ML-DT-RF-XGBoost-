{
 "cells": [
  {
   "cell_type": "code",
   "execution_count": 1,
   "id": "410d5906-e3cd-4daf-bae7-62dbb866a158",
   "metadata": {},
   "outputs": [],
   "source": [
    "import numpy as np # linear algebra\n",
    "import pandas as pd # data processing, CSV file I/O (e.g. pd.read_csv)\n",
    "\n",
    "from sklearn.model_selection import train_test_split, GridSearchCV\n",
    "from sklearn.tree import DecisionTreeClassifier\n",
    "from sklearn.metrics import accuracy_score\n",
    "\n",
    "#from sklearn.model_selection import GridSearchCV\n",
    "from sklearn.pipeline import Pipeline\n",
    "from sklearn.compose import ColumnTransformer\n",
    "from sklearn.preprocessing import StandardScaler, OneHotEncoder, LabelEncoder\n",
    "from sklearn.ensemble import RandomForestClassifier\n",
    "from xgboost import XGBClassifier\n",
    "\n",
    "\n",
    "import matplotlib.pyplot as plt\n",
    "import seaborn as sns\n",
    "\n",
    "import warnings\n",
    "warnings.filterwarnings('ignore')\n"
   ]
  },
  {
   "cell_type": "code",
   "execution_count": 2,
   "id": "f1f9a9cc-ac8f-4fb8-a407-ac162be5efaa",
   "metadata": {},
   "outputs": [],
   "source": [
    "df = pd.read_csv('Students.csv')\n"
   ]
  },
  {
   "cell_type": "code",
   "execution_count": 3,
   "id": "be83ceeb-71b4-4f01-beb6-b78b79aadb1d",
   "metadata": {},
   "outputs": [
    {
     "data": {
      "text/plain": [
       "(3614, 16)"
      ]
     },
     "execution_count": 3,
     "metadata": {},
     "output_type": "execute_result"
    }
   ],
   "source": [
    "df.shape"
   ]
  },
  {
   "cell_type": "code",
   "execution_count": 4,
   "id": "022cc358-939d-4e09-8a5f-d272829dd957",
   "metadata": {},
   "outputs": [
    {
     "data": {
      "text/html": [
       "<div>\n",
       "<style scoped>\n",
       "    .dataframe tbody tr th:only-of-type {\n",
       "        vertical-align: middle;\n",
       "    }\n",
       "\n",
       "    .dataframe tbody tr th {\n",
       "        vertical-align: top;\n",
       "    }\n",
       "\n",
       "    .dataframe thead th {\n",
       "        text-align: right;\n",
       "    }\n",
       "</style>\n",
       "<table border=\"1\" class=\"dataframe\">\n",
       "  <thead>\n",
       "    <tr style=\"text-align: right;\">\n",
       "      <th></th>\n",
       "      <th>Student_Name</th>\n",
       "      <th>College_Name</th>\n",
       "      <th>Stream</th>\n",
       "      <th>Year_of_Study</th>\n",
       "      <th>AI_Tools_Used</th>\n",
       "      <th>Daily_Usage_Hours</th>\n",
       "      <th>Use_Cases</th>\n",
       "      <th>Trust_in_AI_Tools</th>\n",
       "      <th>Impact_on_Grades</th>\n",
       "      <th>Do_Professors_Allow_Use</th>\n",
       "      <th>Preferred_AI_Tool</th>\n",
       "      <th>Awareness_Level</th>\n",
       "      <th>Willing_to_Pay_for_Access</th>\n",
       "      <th>State</th>\n",
       "      <th>Device_Used</th>\n",
       "      <th>Internet_Access</th>\n",
       "    </tr>\n",
       "  </thead>\n",
       "  <tbody>\n",
       "    <tr>\n",
       "      <th>0</th>\n",
       "      <td>Aarav</td>\n",
       "      <td>Indian Institute of Information Technology</td>\n",
       "      <td>Engineering</td>\n",
       "      <td>4</td>\n",
       "      <td>Gemini</td>\n",
       "      <td>0.9</td>\n",
       "      <td>Assignments, Coding Help</td>\n",
       "      <td>2</td>\n",
       "      <td>2</td>\n",
       "      <td>No</td>\n",
       "      <td>Copilot</td>\n",
       "      <td>9</td>\n",
       "      <td>Yes</td>\n",
       "      <td>Uttar pradesh</td>\n",
       "      <td>Mobile</td>\n",
       "      <td>Poor</td>\n",
       "    </tr>\n",
       "    <tr>\n",
       "      <th>1</th>\n",
       "      <td>Vivaan</td>\n",
       "      <td>Government Ram Bhajan Rai NES College, Jashpur</td>\n",
       "      <td>Commerce</td>\n",
       "      <td>2</td>\n",
       "      <td>ChatGPT</td>\n",
       "      <td>3.4</td>\n",
       "      <td>Learning new topics</td>\n",
       "      <td>3</td>\n",
       "      <td>-3</td>\n",
       "      <td>Yes</td>\n",
       "      <td>Other</td>\n",
       "      <td>6</td>\n",
       "      <td>No</td>\n",
       "      <td>Chhattisgarh</td>\n",
       "      <td>Laptop</td>\n",
       "      <td>Poor</td>\n",
       "    </tr>\n",
       "    <tr>\n",
       "      <th>2</th>\n",
       "      <td>Aditya</td>\n",
       "      <td>Dolphin PG Institute of BioMedical &amp; Natural</td>\n",
       "      <td>Science</td>\n",
       "      <td>2</td>\n",
       "      <td>Copilot</td>\n",
       "      <td>3.6</td>\n",
       "      <td>MCQ Practice, Projects</td>\n",
       "      <td>5</td>\n",
       "      <td>0</td>\n",
       "      <td>No</td>\n",
       "      <td>Gemini</td>\n",
       "      <td>1</td>\n",
       "      <td>No</td>\n",
       "      <td>Uttarakhand</td>\n",
       "      <td>Tablet</td>\n",
       "      <td>Poor</td>\n",
       "    </tr>\n",
       "    <tr>\n",
       "      <th>3</th>\n",
       "      <td>Vihaan</td>\n",
       "      <td>Shaheed Rajguru College of Applied Sciences for</td>\n",
       "      <td>Arts</td>\n",
       "      <td>2</td>\n",
       "      <td>Copilot</td>\n",
       "      <td>2.9</td>\n",
       "      <td>Content Writing</td>\n",
       "      <td>5</td>\n",
       "      <td>2</td>\n",
       "      <td>Yes</td>\n",
       "      <td>Gemini</td>\n",
       "      <td>5</td>\n",
       "      <td>No</td>\n",
       "      <td>Delhi ncr</td>\n",
       "      <td>Laptop</td>\n",
       "      <td>High</td>\n",
       "    </tr>\n",
       "    <tr>\n",
       "      <th>4</th>\n",
       "      <td>Arjun</td>\n",
       "      <td>Roorkee College of Engineering</td>\n",
       "      <td>Science</td>\n",
       "      <td>1</td>\n",
       "      <td>Gemini</td>\n",
       "      <td>0.9</td>\n",
       "      <td>Doubt Solving, Resume Writing</td>\n",
       "      <td>1</td>\n",
       "      <td>3</td>\n",
       "      <td>Yes</td>\n",
       "      <td>Other</td>\n",
       "      <td>8</td>\n",
       "      <td>Yes</td>\n",
       "      <td>Uttarakhand</td>\n",
       "      <td>Laptop</td>\n",
       "      <td>Medium</td>\n",
       "    </tr>\n",
       "  </tbody>\n",
       "</table>\n",
       "</div>"
      ],
      "text/plain": [
       "  Student_Name                                      College_Name       Stream  \\\n",
       "0        Aarav       Indian Institute of Information Technology   Engineering   \n",
       "1       Vivaan   Government Ram Bhajan Rai NES College, Jashpur      Commerce   \n",
       "2       Aditya     Dolphin PG Institute of BioMedical & Natural       Science   \n",
       "3       Vihaan  Shaheed Rajguru College of Applied Sciences for          Arts   \n",
       "4        Arjun                   Roorkee College of Engineering       Science   \n",
       "\n",
       "   Year_of_Study AI_Tools_Used  Daily_Usage_Hours  \\\n",
       "0              4        Gemini                0.9   \n",
       "1              2       ChatGPT                3.4   \n",
       "2              2       Copilot                3.6   \n",
       "3              2       Copilot                2.9   \n",
       "4              1        Gemini                0.9   \n",
       "\n",
       "                       Use_Cases  Trust_in_AI_Tools  Impact_on_Grades  \\\n",
       "0       Assignments, Coding Help                  2                 2   \n",
       "1            Learning new topics                  3                -3   \n",
       "2         MCQ Practice, Projects                  5                 0   \n",
       "3                Content Writing                  5                 2   \n",
       "4  Doubt Solving, Resume Writing                  1                 3   \n",
       "\n",
       "  Do_Professors_Allow_Use Preferred_AI_Tool  Awareness_Level  \\\n",
       "0                      No           Copilot                9   \n",
       "1                     Yes             Other                6   \n",
       "2                      No            Gemini                1   \n",
       "3                     Yes            Gemini                5   \n",
       "4                     Yes             Other                8   \n",
       "\n",
       "  Willing_to_Pay_for_Access          State Device_Used Internet_Access  \n",
       "0                       Yes  Uttar pradesh      Mobile            Poor  \n",
       "1                        No   Chhattisgarh      Laptop            Poor  \n",
       "2                        No    Uttarakhand      Tablet            Poor  \n",
       "3                        No      Delhi ncr      Laptop            High  \n",
       "4                       Yes    Uttarakhand      Laptop          Medium  "
      ]
     },
     "execution_count": 4,
     "metadata": {},
     "output_type": "execute_result"
    }
   ],
   "source": [
    "df.head()"
   ]
  },
  {
   "cell_type": "code",
   "execution_count": 5,
   "id": "97743889-fcee-49f8-af43-52e85e18e692",
   "metadata": {},
   "outputs": [
    {
     "name": "stdout",
     "output_type": "stream",
     "text": [
      "<class 'pandas.core.frame.DataFrame'>\n",
      "RangeIndex: 3614 entries, 0 to 3613\n",
      "Data columns (total 16 columns):\n",
      " #   Column                     Non-Null Count  Dtype  \n",
      "---  ------                     --------------  -----  \n",
      " 0   Student_Name               3614 non-null   object \n",
      " 1   College_Name               3614 non-null   object \n",
      " 2   Stream                     3614 non-null   object \n",
      " 3   Year_of_Study              3614 non-null   int64  \n",
      " 4   AI_Tools_Used              3614 non-null   object \n",
      " 5   Daily_Usage_Hours          3614 non-null   float64\n",
      " 6   Use_Cases                  3614 non-null   object \n",
      " 7   Trust_in_AI_Tools          3614 non-null   int64  \n",
      " 8   Impact_on_Grades           3614 non-null   int64  \n",
      " 9   Do_Professors_Allow_Use    3614 non-null   object \n",
      " 10  Preferred_AI_Tool          3614 non-null   object \n",
      " 11  Awareness_Level            3614 non-null   int64  \n",
      " 12  Willing_to_Pay_for_Access  3614 non-null   object \n",
      " 13  State                      2000 non-null   object \n",
      " 14  Device_Used                3614 non-null   object \n",
      " 15  Internet_Access            3614 non-null   object \n",
      "dtypes: float64(1), int64(4), object(11)\n",
      "memory usage: 451.9+ KB\n"
     ]
    }
   ],
   "source": [
    "df.info()"
   ]
  },
  {
   "cell_type": "code",
   "execution_count": 6,
   "id": "abf1a286-5b11-40c4-bc21-003b3ac4046e",
   "metadata": {},
   "outputs": [],
   "source": [
    "# Define preprocessors\n",
    "numeric_features = ['Year_of_Study', 'Daily_Usage_Hours', 'Trust_in_AI_Tools', 'Awareness_Level']\n",
    "categorical_features = ['Stream', 'Do_Professors_Allow_Use', 'Preferred_AI_Tool']\n",
    "\n",
    "preprocessor = ColumnTransformer([\n",
    "    ('num', StandardScaler(), numeric_features),\n",
    "    ('cat', OneHotEncoder(drop='first'), categorical_features)\n",
    "])"
   ]
  },
  {
   "cell_type": "code",
   "execution_count": 7,
   "id": "49f769a9-2f18-41d1-91fd-b96f1acc5030",
   "metadata": {},
   "outputs": [],
   "source": [
    "# Pipelines\n",
    "dt_pipeline = Pipeline([\n",
    "    ('preprocess', preprocessor),\n",
    "    ('clf', DecisionTreeClassifier(random_state=42))\n",
    "])\n",
    "\n",
    "rf_pipeline = Pipeline([\n",
    "    ('preprocess', preprocessor),\n",
    "    ('clf', RandomForestClassifier(random_state=42))\n",
    "])\n",
    "\n",
    "xgb_pipeline = Pipeline([\n",
    "    ('preprocess', preprocessor),\n",
    "    ('clf', XGBClassifier(use_label_encoder=False, eval_metric='mlogloss', random_state=42))\n",
    "])"
   ]
  },
  {
   "cell_type": "code",
   "execution_count": 8,
   "id": "7081ba13-7a77-4213-8a05-229cb8c92b27",
   "metadata": {},
   "outputs": [],
   "source": [
    "X = df.drop('Impact_on_Grades',axis=1)\n",
    "y=df['Impact_on_Grades']\n",
    "\n",
    "# encoding target column\n",
    "le = LabelEncoder()\n",
    "y_encoded = le.fit_transform(y)"
   ]
  },
  {
   "cell_type": "code",
   "execution_count": 9,
   "id": "cfbe53db-5545-47b0-bb54-260cbe7da3fb",
   "metadata": {},
   "outputs": [],
   "source": [
    "X_train,X_test,y_train,y_test = train_test_split(X,y_encoded,test_size=0.2,random_state=42)\n"
   ]
  },
  {
   "cell_type": "code",
   "execution_count": 10,
   "id": "208c17e8-2f5c-4e4f-9a8f-3041bd2b06e4",
   "metadata": {},
   "outputs": [
    {
     "name": "stdout",
     "output_type": "stream",
     "text": [
      "Decision Tree Accuracy: 0.2544951590594744\n",
      "RandomForest Accuracy: 0.6417704011065007\n",
      "XGBoost Accuracy: 0.5822959889349931\n"
     ]
    }
   ],
   "source": [
    "# Grid parameters\n",
    "\n",
    "dt_params = {\n",
    "    'clf__criterion': ['gini', 'entropy','log_loss'],  # or 'log_loss' for newer versions\n",
    "    'clf__max_depth': [2, 3, 4, 5, 6],\n",
    "    'clf__min_samples_split': [2, 3, 4],\n",
    "    'clf__min_samples_leaf': [1, 2, 3]\n",
    "}\n",
    "rf_params = {'clf__n_estimators': [100], 'clf__max_depth': [5, 10]}\n",
    "xgb_params = {'clf__n_estimators': [100], 'clf__max_depth': [3, 5], 'clf__learning_rate': [0.1, 0.2]}\n",
    "\n",
    "\n",
    "\n",
    "\n",
    "# Grid search\n",
    "dt_grid = GridSearchCV(dt_pipeline, dt_params, cv=5, scoring='accuracy')\n",
    "rf_grid = GridSearchCV(rf_pipeline, rf_params, cv=3, scoring='accuracy')\n",
    "xgb_grid = GridSearchCV(xgb_pipeline, xgb_params, cv=3, scoring='accuracy')\n",
    "\n",
    "# Fit and predict\n",
    "dt_grid.fit(X_train, y_train)\n",
    "rf_grid.fit(X_train, y_train)\n",
    "xgb_grid.fit(X_train, y_train)\n",
    "\n",
    "# Evaluation\n",
    "print(\"Decision Tree Accuracy:\", dt_grid.score(X_test, y_test))\n",
    "print(\"RandomForest Accuracy:\", rf_grid.score(X_test, y_test))\n",
    "print(\"XGBoost Accuracy:\", xgb_grid.score(X_test, y_test))"
   ]
  },
  {
   "cell_type": "markdown",
   "id": "417ef27c-32c6-4bd8-9e93-bcda7ac00081",
   "metadata": {},
   "source": [
    "# More Improvement Needed"
   ]
  },
  {
   "cell_type": "code",
   "execution_count": null,
   "id": "46987b84-002b-470d-a408-e5cc9d892af0",
   "metadata": {},
   "outputs": [],
   "source": []
  }
 ],
 "metadata": {
  "kernelspec": {
   "display_name": "Python 3 (ipykernel)",
   "language": "python",
   "name": "python3"
  },
  "language_info": {
   "codemirror_mode": {
    "name": "ipython",
    "version": 3
   },
   "file_extension": ".py",
   "mimetype": "text/x-python",
   "name": "python",
   "nbconvert_exporter": "python",
   "pygments_lexer": "ipython3",
   "version": "3.12.7"
  }
 },
 "nbformat": 4,
 "nbformat_minor": 5
}
